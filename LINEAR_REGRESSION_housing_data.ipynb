{
  "metadata": {
    "kernelspec": {
      "language": "python",
      "display_name": "Python 3",
      "name": "python3"
    },
    "language_info": {
      "name": "python",
      "version": "3.10.13",
      "mimetype": "text/x-python",
      "codemirror_mode": {
        "name": "ipython",
        "version": 3
      },
      "pygments_lexer": "ipython3",
      "nbconvert_exporter": "python",
      "file_extension": ".py"
    },
    "kaggle": {
      "accelerator": "none",
      "dataSources": [
        {
          "sourceId": 10115,
          "sourceType": "datasetVersion",
          "datasetId": 7039
        }
      ],
      "dockerImageVersionId": 30746,
      "isInternetEnabled": false,
      "language": "python",
      "sourceType": "notebook",
      "isGpuEnabled": false
    },
    "colab": {
      "name": "LINEAR_REGRESSION_housing_data",
      "provenance": [],
      "include_colab_link": true
    }
  },
  "nbformat_minor": 0,
  "nbformat": 4,
  "cells": [
    {
      "cell_type": "markdown",
      "metadata": {
        "id": "view-in-github",
        "colab_type": "text"
      },
      "source": [
        "<a href=\"https://colab.research.google.com/github/Kaustavee/codealpha_linear_regression/blob/master/LINEAR_REGRESSION_housing_data.ipynb\" target=\"_parent\"><img src=\"https://colab.research.google.com/assets/colab-badge.svg\" alt=\"Open In Colab\"/></a>"
      ]
    },
    {
      "source": [
        "\n",
        "# IMPORTANT: RUN THIS CELL IN ORDER TO IMPORT YOUR KAGGLE DATA SOURCES\n",
        "# TO THE CORRECT LOCATION (/kaggle/input) IN YOUR NOTEBOOK,\n",
        "# THEN FEEL FREE TO DELETE THIS CELL.\n",
        "# NOTE: THIS NOTEBOOK ENVIRONMENT DIFFERS FROM KAGGLE'S PYTHON\n",
        "# ENVIRONMENT SO THERE MAY BE MISSING LIBRARIES USED BY YOUR\n",
        "# NOTEBOOK.\n",
        "\n",
        "import os\n",
        "import sys\n",
        "from tempfile import NamedTemporaryFile\n",
        "from urllib.request import urlopen\n",
        "from urllib.parse import unquote, urlparse\n",
        "from urllib.error import HTTPError\n",
        "from zipfile import ZipFile\n",
        "import tarfile\n",
        "import shutil\n",
        "\n",
        "CHUNK_SIZE = 40960\n",
        "DATA_SOURCE_MAPPING = 'usa-housing:https%3A%2F%2Fstorage.googleapis.com%2Fkaggle-data-sets%2F7039%2F10115%2Fbundle%2Farchive.zip%3FX-Goog-Algorithm%3DGOOG4-RSA-SHA256%26X-Goog-Credential%3Dgcp-kaggle-com%2540kaggle-161607.iam.gserviceaccount.com%252F20240829%252Fauto%252Fstorage%252Fgoog4_request%26X-Goog-Date%3D20240829T012138Z%26X-Goog-Expires%3D259200%26X-Goog-SignedHeaders%3Dhost%26X-Goog-Signature%3D6a46411df92a859de12e817865b216faadbeb9c568610e5f2c5e7c80b7f4247c82a3a2aa4d5d0211d2d3c04ae86ef12fb4ee3cb7e492bf8eae54fe112a58b0b0489136f09e9e8fd837dd744d7a5e39f263beb3efa463f0f428b64a8bd41f298424cb894906c6276a0f4a4782b9437bfea7ea4d719cbc55e9179b26c9df79914e0475610c8ac55ef6731fab583c27f92001f1c5e175ffeab449b46b854697ed1ec97a108e666ce2123b23cde87e520a7f321b7ba0f5b5ea76d57ccaf0cac64b5add1f60e673e732fa3860e7e65e6d7dd20dda2ba3919ed728571f838d61827b1449226ed5a3b9d1561f8b971be0a1c073760f6fb897517f0b38a434313bab93dc'\n",
        "\n",
        "KAGGLE_INPUT_PATH='/kaggle/input'\n",
        "KAGGLE_WORKING_PATH='/kaggle/working'\n",
        "KAGGLE_SYMLINK='kaggle'\n",
        "\n",
        "!umount /kaggle/input/ 2> /dev/null\n",
        "shutil.rmtree('/kaggle/input', ignore_errors=True)\n",
        "os.makedirs(KAGGLE_INPUT_PATH, 0o777, exist_ok=True)\n",
        "os.makedirs(KAGGLE_WORKING_PATH, 0o777, exist_ok=True)\n",
        "\n",
        "try:\n",
        "  os.symlink(KAGGLE_INPUT_PATH, os.path.join(\"..\", 'input'), target_is_directory=True)\n",
        "except FileExistsError:\n",
        "  pass\n",
        "try:\n",
        "  os.symlink(KAGGLE_WORKING_PATH, os.path.join(\"..\", 'working'), target_is_directory=True)\n",
        "except FileExistsError:\n",
        "  pass\n",
        "\n",
        "for data_source_mapping in DATA_SOURCE_MAPPING.split(','):\n",
        "    directory, download_url_encoded = data_source_mapping.split(':')\n",
        "    download_url = unquote(download_url_encoded)\n",
        "    filename = urlparse(download_url).path\n",
        "    destination_path = os.path.join(KAGGLE_INPUT_PATH, directory)\n",
        "    try:\n",
        "        with urlopen(download_url) as fileres, NamedTemporaryFile() as tfile:\n",
        "            total_length = fileres.headers['content-length']\n",
        "            print(f'Downloading {directory}, {total_length} bytes compressed')\n",
        "            dl = 0\n",
        "            data = fileres.read(CHUNK_SIZE)\n",
        "            while len(data) > 0:\n",
        "                dl += len(data)\n",
        "                tfile.write(data)\n",
        "                done = int(50 * dl / int(total_length))\n",
        "                sys.stdout.write(f\"\\r[{'=' * done}{' ' * (50-done)}] {dl} bytes downloaded\")\n",
        "                sys.stdout.flush()\n",
        "                data = fileres.read(CHUNK_SIZE)\n",
        "            if filename.endswith('.zip'):\n",
        "              with ZipFile(tfile) as zfile:\n",
        "                zfile.extractall(destination_path)\n",
        "            else:\n",
        "              with tarfile.open(tfile.name) as tarfile:\n",
        "                tarfile.extractall(destination_path)\n",
        "            print(f'\\nDownloaded and uncompressed: {directory}')\n",
        "    except HTTPError as e:\n",
        "        print(f'Failed to load (likely expired) {download_url} to path {destination_path}')\n",
        "        continue\n",
        "    except OSError as e:\n",
        "        print(f'Failed to load {download_url} to path {destination_path}')\n",
        "        continue\n",
        "\n",
        "print('Data source import complete.')\n"
      ],
      "metadata": {
        "id": "V9ap0ps4vjsC"
      },
      "cell_type": "code",
      "outputs": [],
      "execution_count": null
    },
    {
      "cell_type": "code",
      "source": [
        "# This Python 3 environment comes with many helpful analytics libraries installed\n",
        "# It is defined by the kaggle/python Docker image: https://github.com/kaggle/docker-python\n",
        "# For example, here's several helpful packages to load\n",
        "\n",
        "import numpy as np # linear algebra\n",
        "import pandas as pd # data processing, CSV file I/O (e.g. pd.read_csv)\n",
        "\n",
        "# Input data files are available in the read-only \"../input/\" directory\n",
        "# For example, running this (by clicking run or pressing Shift+Enter) will list all files under the input directory\n",
        "\n",
        "import os\n",
        "for dirname, _, filenames in os.walk('/kaggle/input'):\n",
        "    for filename in filenames:\n",
        "        print(os.path.join(dirname, filename))\n",
        "\n",
        "# You can write up to 20GB to the current directory (/kaggle/working/) that gets preserved as output when you create a version using \"Save & Run All\"\n",
        "# You can also write temporary files to /kaggle/temp/, but they won't be saved outside of the current session"
      ],
      "metadata": {
        "_uuid": "8f2839f25d086af736a60e9eeb907d3b93b6e0e5",
        "_cell_guid": "b1076dfc-b9ad-4769-8c92-a6c4dae69d19",
        "trusted": true,
        "id": "dgoSWE_evjsF"
      },
      "execution_count": null,
      "outputs": []
    },
    {
      "cell_type": "markdown",
      "source": [
        "# LINEAR REGRESSION TESTS ON A HOUSING DATASET"
      ],
      "metadata": {
        "id": "psXGlk7BvjsF"
      }
    },
    {
      "cell_type": "markdown",
      "source": [
        "> COLUMNS-\n",
        "> Avg. Area Income\n",
        "> Avg. Area House Age\n",
        "> Avg. Area Number of Rooms\n",
        "> Avg. Area Number of Bedrooms\n",
        "> Area Population\n",
        "> Price\n",
        "> Address"
      ],
      "metadata": {
        "id": "AN9wiAbTvjsI"
      }
    },
    {
      "cell_type": "markdown",
      "source": [],
      "metadata": {
        "id": "luPRbgatvjsI"
      }
    },
    {
      "cell_type": "code",
      "source": [
        "import pandas as pd\n",
        "import numpy as np\n",
        "import seaborn as sns\n",
        "import matplotlib.pyplot as plt\n",
        "%matplotlib inline"
      ],
      "metadata": {
        "execution": {
          "iopub.status.busy": "2024-08-21T02:40:28.424818Z",
          "iopub.execute_input": "2024-08-21T02:40:28.425232Z",
          "iopub.status.idle": "2024-08-21T02:40:28.433092Z",
          "shell.execute_reply.started": "2024-08-21T02:40:28.425201Z",
          "shell.execute_reply": "2024-08-21T02:40:28.431459Z"
        },
        "trusted": true,
        "id": "imN6DInOvjsJ"
      },
      "execution_count": null,
      "outputs": []
    },
    {
      "cell_type": "code",
      "source": [
        "df = pd.read_csv(\"/kaggle/input/usa-housing/USA_Housing.csv\")"
      ],
      "metadata": {
        "execution": {
          "iopub.status.busy": "2024-08-21T02:35:02.89718Z",
          "iopub.execute_input": "2024-08-21T02:35:02.897721Z",
          "iopub.status.idle": "2024-08-21T02:35:02.953406Z",
          "shell.execute_reply.started": "2024-08-21T02:35:02.897677Z",
          "shell.execute_reply": "2024-08-21T02:35:02.952104Z"
        },
        "trusted": true,
        "id": "WJpGtIYUvjsK"
      },
      "execution_count": null,
      "outputs": []
    },
    {
      "cell_type": "code",
      "source": [
        "df.head()"
      ],
      "metadata": {
        "execution": {
          "iopub.status.busy": "2024-08-21T02:35:52.674807Z",
          "iopub.execute_input": "2024-08-21T02:35:52.675197Z",
          "iopub.status.idle": "2024-08-21T02:35:52.700277Z",
          "shell.execute_reply.started": "2024-08-21T02:35:52.675168Z",
          "shell.execute_reply": "2024-08-21T02:35:52.699129Z"
        },
        "trusted": true,
        "id": "sv-8QulqvjsK",
        "outputId": "1dd212b6-a1d5-451e-a5c2-311186e8bd42"
      },
      "execution_count": null,
      "outputs": [
        {
          "execution_count": 3,
          "output_type": "execute_result",
          "data": {
            "text/plain": "   Avg. Area Income  Avg. Area House Age  Avg. Area Number of Rooms  \\\n0      79545.458574             5.682861                   7.009188   \n1      79248.642455             6.002900                   6.730821   \n2      61287.067179             5.865890                   8.512727   \n3      63345.240046             7.188236                   5.586729   \n4      59982.197226             5.040555                   7.839388   \n\n   Avg. Area Number of Bedrooms  Area Population         Price  \\\n0                          4.09     23086.800503  1.059034e+06   \n1                          3.09     40173.072174  1.505891e+06   \n2                          5.13     36882.159400  1.058988e+06   \n3                          3.26     34310.242831  1.260617e+06   \n4                          4.23     26354.109472  6.309435e+05   \n\n                                             Address  \n0  208 Michael Ferry Apt. 674\\nLaurabury, NE 3701...  \n1  188 Johnson Views Suite 079\\nLake Kathleen, CA...  \n2  9127 Elizabeth Stravenue\\nDanieltown, WI 06482...  \n3                          USS Barnett\\nFPO AP 44820  \n4                         USNS Raymond\\nFPO AE 09386  ",
            "text/html": "<div>\n<style scoped>\n    .dataframe tbody tr th:only-of-type {\n        vertical-align: middle;\n    }\n\n    .dataframe tbody tr th {\n        vertical-align: top;\n    }\n\n    .dataframe thead th {\n        text-align: right;\n    }\n</style>\n<table border=\"1\" class=\"dataframe\">\n  <thead>\n    <tr style=\"text-align: right;\">\n      <th></th>\n      <th>Avg. Area Income</th>\n      <th>Avg. Area House Age</th>\n      <th>Avg. Area Number of Rooms</th>\n      <th>Avg. Area Number of Bedrooms</th>\n      <th>Area Population</th>\n      <th>Price</th>\n      <th>Address</th>\n    </tr>\n  </thead>\n  <tbody>\n    <tr>\n      <th>0</th>\n      <td>79545.458574</td>\n      <td>5.682861</td>\n      <td>7.009188</td>\n      <td>4.09</td>\n      <td>23086.800503</td>\n      <td>1.059034e+06</td>\n      <td>208 Michael Ferry Apt. 674\\nLaurabury, NE 3701...</td>\n    </tr>\n    <tr>\n      <th>1</th>\n      <td>79248.642455</td>\n      <td>6.002900</td>\n      <td>6.730821</td>\n      <td>3.09</td>\n      <td>40173.072174</td>\n      <td>1.505891e+06</td>\n      <td>188 Johnson Views Suite 079\\nLake Kathleen, CA...</td>\n    </tr>\n    <tr>\n      <th>2</th>\n      <td>61287.067179</td>\n      <td>5.865890</td>\n      <td>8.512727</td>\n      <td>5.13</td>\n      <td>36882.159400</td>\n      <td>1.058988e+06</td>\n      <td>9127 Elizabeth Stravenue\\nDanieltown, WI 06482...</td>\n    </tr>\n    <tr>\n      <th>3</th>\n      <td>63345.240046</td>\n      <td>7.188236</td>\n      <td>5.586729</td>\n      <td>3.26</td>\n      <td>34310.242831</td>\n      <td>1.260617e+06</td>\n      <td>USS Barnett\\nFPO AP 44820</td>\n    </tr>\n    <tr>\n      <th>4</th>\n      <td>59982.197226</td>\n      <td>5.040555</td>\n      <td>7.839388</td>\n      <td>4.23</td>\n      <td>26354.109472</td>\n      <td>6.309435e+05</td>\n      <td>USNS Raymond\\nFPO AE 09386</td>\n    </tr>\n  </tbody>\n</table>\n</div>"
          },
          "metadata": {}
        }
      ]
    },
    {
      "cell_type": "code",
      "source": [
        "df.info()"
      ],
      "metadata": {
        "execution": {
          "iopub.status.busy": "2024-08-21T02:36:19.340027Z",
          "iopub.execute_input": "2024-08-21T02:36:19.340458Z",
          "iopub.status.idle": "2024-08-21T02:36:19.369946Z",
          "shell.execute_reply.started": "2024-08-21T02:36:19.340423Z",
          "shell.execute_reply": "2024-08-21T02:36:19.368743Z"
        },
        "trusted": true,
        "id": "0QHhfj6hvjsL",
        "outputId": "59069d71-736b-49b3-a538-960357e00ed6"
      },
      "execution_count": null,
      "outputs": [
        {
          "name": "stdout",
          "text": "<class 'pandas.core.frame.DataFrame'>\nRangeIndex: 5000 entries, 0 to 4999\nData columns (total 7 columns):\n #   Column                        Non-Null Count  Dtype  \n---  ------                        --------------  -----  \n 0   Avg. Area Income              5000 non-null   float64\n 1   Avg. Area House Age           5000 non-null   float64\n 2   Avg. Area Number of Rooms     5000 non-null   float64\n 3   Avg. Area Number of Bedrooms  5000 non-null   float64\n 4   Area Population               5000 non-null   float64\n 5   Price                         5000 non-null   float64\n 6   Address                       5000 non-null   object \ndtypes: float64(6), object(1)\nmemory usage: 273.6+ KB\n",
          "output_type": "stream"
        }
      ]
    },
    {
      "cell_type": "code",
      "source": [
        "df.describe()"
      ],
      "metadata": {
        "execution": {
          "iopub.status.busy": "2024-08-21T02:36:49.259229Z",
          "iopub.execute_input": "2024-08-21T02:36:49.260054Z",
          "iopub.status.idle": "2024-08-21T02:36:49.296224Z",
          "shell.execute_reply.started": "2024-08-21T02:36:49.260015Z",
          "shell.execute_reply": "2024-08-21T02:36:49.295035Z"
        },
        "trusted": true,
        "id": "SRYUL4cPvjsM",
        "outputId": "8113a6ea-a988-45f8-9d6c-38e647de26e5"
      },
      "execution_count": null,
      "outputs": [
        {
          "execution_count": 5,
          "output_type": "execute_result",
          "data": {
            "text/plain": "       Avg. Area Income  Avg. Area House Age  Avg. Area Number of Rooms  \\\ncount       5000.000000          5000.000000                5000.000000   \nmean       68583.108984             5.977222                   6.987792   \nstd        10657.991214             0.991456                   1.005833   \nmin        17796.631190             2.644304                   3.236194   \n25%        61480.562388             5.322283                   6.299250   \n50%        68804.286404             5.970429                   7.002902   \n75%        75783.338666             6.650808                   7.665871   \nmax       107701.748378             9.519088                  10.759588   \n\n       Avg. Area Number of Bedrooms  Area Population         Price  \ncount                   5000.000000      5000.000000  5.000000e+03  \nmean                       3.981330     36163.516039  1.232073e+06  \nstd                        1.234137      9925.650114  3.531176e+05  \nmin                        2.000000       172.610686  1.593866e+04  \n25%                        3.140000     29403.928702  9.975771e+05  \n50%                        4.050000     36199.406689  1.232669e+06  \n75%                        4.490000     42861.290769  1.471210e+06  \nmax                        6.500000     69621.713378  2.469066e+06  ",
            "text/html": "<div>\n<style scoped>\n    .dataframe tbody tr th:only-of-type {\n        vertical-align: middle;\n    }\n\n    .dataframe tbody tr th {\n        vertical-align: top;\n    }\n\n    .dataframe thead th {\n        text-align: right;\n    }\n</style>\n<table border=\"1\" class=\"dataframe\">\n  <thead>\n    <tr style=\"text-align: right;\">\n      <th></th>\n      <th>Avg. Area Income</th>\n      <th>Avg. Area House Age</th>\n      <th>Avg. Area Number of Rooms</th>\n      <th>Avg. Area Number of Bedrooms</th>\n      <th>Area Population</th>\n      <th>Price</th>\n    </tr>\n  </thead>\n  <tbody>\n    <tr>\n      <th>count</th>\n      <td>5000.000000</td>\n      <td>5000.000000</td>\n      <td>5000.000000</td>\n      <td>5000.000000</td>\n      <td>5000.000000</td>\n      <td>5.000000e+03</td>\n    </tr>\n    <tr>\n      <th>mean</th>\n      <td>68583.108984</td>\n      <td>5.977222</td>\n      <td>6.987792</td>\n      <td>3.981330</td>\n      <td>36163.516039</td>\n      <td>1.232073e+06</td>\n    </tr>\n    <tr>\n      <th>std</th>\n      <td>10657.991214</td>\n      <td>0.991456</td>\n      <td>1.005833</td>\n      <td>1.234137</td>\n      <td>9925.650114</td>\n      <td>3.531176e+05</td>\n    </tr>\n    <tr>\n      <th>min</th>\n      <td>17796.631190</td>\n      <td>2.644304</td>\n      <td>3.236194</td>\n      <td>2.000000</td>\n      <td>172.610686</td>\n      <td>1.593866e+04</td>\n    </tr>\n    <tr>\n      <th>25%</th>\n      <td>61480.562388</td>\n      <td>5.322283</td>\n      <td>6.299250</td>\n      <td>3.140000</td>\n      <td>29403.928702</td>\n      <td>9.975771e+05</td>\n    </tr>\n    <tr>\n      <th>50%</th>\n      <td>68804.286404</td>\n      <td>5.970429</td>\n      <td>7.002902</td>\n      <td>4.050000</td>\n      <td>36199.406689</td>\n      <td>1.232669e+06</td>\n    </tr>\n    <tr>\n      <th>75%</th>\n      <td>75783.338666</td>\n      <td>6.650808</td>\n      <td>7.665871</td>\n      <td>4.490000</td>\n      <td>42861.290769</td>\n      <td>1.471210e+06</td>\n    </tr>\n    <tr>\n      <th>max</th>\n      <td>107701.748378</td>\n      <td>9.519088</td>\n      <td>10.759588</td>\n      <td>6.500000</td>\n      <td>69621.713378</td>\n      <td>2.469066e+06</td>\n    </tr>\n  </tbody>\n</table>\n</div>"
          },
          "metadata": {}
        }
      ]
    },
    {
      "cell_type": "code",
      "source": [
        "df.columns"
      ],
      "metadata": {
        "execution": {
          "iopub.status.busy": "2024-08-21T02:37:05.979798Z",
          "iopub.execute_input": "2024-08-21T02:37:05.980234Z",
          "iopub.status.idle": "2024-08-21T02:37:05.988799Z",
          "shell.execute_reply.started": "2024-08-21T02:37:05.98019Z",
          "shell.execute_reply": "2024-08-21T02:37:05.987438Z"
        },
        "trusted": true,
        "id": "MGMK8EFUvjsM",
        "outputId": "3944e4ad-96b4-4398-b018-bee4e021391d"
      },
      "execution_count": null,
      "outputs": [
        {
          "execution_count": 6,
          "output_type": "execute_result",
          "data": {
            "text/plain": "Index(['Avg. Area Income', 'Avg. Area House Age', 'Avg. Area Number of Rooms',\n       'Avg. Area Number of Bedrooms', 'Area Population', 'Price', 'Address'],\n      dtype='object')"
          },
          "metadata": {}
        }
      ]
    },
    {
      "cell_type": "code",
      "source": [
        "X = df[['Avg. Area Income', 'Avg. Area House Age', 'Avg. Area Number of Rooms',\n",
        "       'Avg. Area Number of Bedrooms', 'Area Population']]\n",
        "y = df['Price']"
      ],
      "metadata": {
        "execution": {
          "iopub.status.busy": "2024-08-21T02:47:54.236034Z",
          "iopub.execute_input": "2024-08-21T02:47:54.236458Z",
          "iopub.status.idle": "2024-08-21T02:47:54.243953Z",
          "shell.execute_reply.started": "2024-08-21T02:47:54.236424Z",
          "shell.execute_reply": "2024-08-21T02:47:54.242645Z"
        },
        "trusted": true,
        "id": "mPhg44ffvjsM"
      },
      "execution_count": null,
      "outputs": []
    },
    {
      "cell_type": "code",
      "source": [
        "from sklearn.model_selection import train_test_split"
      ],
      "metadata": {
        "execution": {
          "iopub.status.busy": "2024-08-21T02:47:57.552364Z",
          "iopub.execute_input": "2024-08-21T02:47:57.553731Z",
          "iopub.status.idle": "2024-08-21T02:47:57.558953Z",
          "shell.execute_reply.started": "2024-08-21T02:47:57.55368Z",
          "shell.execute_reply": "2024-08-21T02:47:57.557692Z"
        },
        "trusted": true,
        "id": "Fxzb_sMQvjsN"
      },
      "execution_count": null,
      "outputs": []
    },
    {
      "cell_type": "code",
      "source": [
        "X_train, X_test, y_train, y_test = train_test_split(X, y, test_size=0.40, random_state=101)"
      ],
      "metadata": {
        "execution": {
          "iopub.status.busy": "2024-08-21T02:48:00.90089Z",
          "iopub.execute_input": "2024-08-21T02:48:00.901404Z",
          "iopub.status.idle": "2024-08-21T02:48:00.912471Z",
          "shell.execute_reply.started": "2024-08-21T02:48:00.90136Z",
          "shell.execute_reply": "2024-08-21T02:48:00.911334Z"
        },
        "trusted": true,
        "id": "eZrMBTbqvjsN"
      },
      "execution_count": null,
      "outputs": []
    },
    {
      "cell_type": "code",
      "source": [
        "X_train"
      ],
      "metadata": {
        "execution": {
          "iopub.status.busy": "2024-08-21T02:48:29.519226Z",
          "iopub.execute_input": "2024-08-21T02:48:29.520376Z",
          "iopub.status.idle": "2024-08-21T02:48:29.549295Z",
          "shell.execute_reply.started": "2024-08-21T02:48:29.520331Z",
          "shell.execute_reply": "2024-08-21T02:48:29.547783Z"
        },
        "trusted": true,
        "id": "2BTaQtOnvjsN",
        "outputId": "8225cfab-0954-40ab-df67-a951b0925860"
      },
      "execution_count": null,
      "outputs": [
        {
          "execution_count": 18,
          "output_type": "execute_result",
          "data": {
            "text/plain": "      Avg. Area Income  Avg. Area House Age  Avg. Area Number of Rooms  \\\n1303      68091.179676             5.364208                   7.502956   \n1051      75729.765546             5.580599                   7.642973   \n4904      70885.420819             6.358747                   7.250241   \n931       73386.407340             4.966360                   7.915453   \n4976      75046.313791             5.351169                   7.797825   \n...                ...                  ...                        ...   \n4171      56610.642563             4.846832                   7.558137   \n599       70596.850945             6.548274                   6.539986   \n1361      55621.899104             3.735942                   6.868291   \n1547      63044.460096             5.935261                   5.913454   \n4959      75078.791516             7.644779                   8.440726   \n\n      Avg. Area Number of Bedrooms  Area Population  \n1303                          3.10     44557.379656  \n1051                          4.21     29996.018448  \n4904                          5.42     38627.301473  \n931                           4.30     38413.490484  \n4976                          5.23     34107.888619  \n...                            ...              ...  \n4171                          3.29     25494.740298  \n599                           3.10     51614.830136  \n1361                          2.30     63184.613147  \n1547                          4.10     32725.279544  \n4959                          4.33     56148.449322  \n\n[3000 rows x 5 columns]",
            "text/html": "<div>\n<style scoped>\n    .dataframe tbody tr th:only-of-type {\n        vertical-align: middle;\n    }\n\n    .dataframe tbody tr th {\n        vertical-align: top;\n    }\n\n    .dataframe thead th {\n        text-align: right;\n    }\n</style>\n<table border=\"1\" class=\"dataframe\">\n  <thead>\n    <tr style=\"text-align: right;\">\n      <th></th>\n      <th>Avg. Area Income</th>\n      <th>Avg. Area House Age</th>\n      <th>Avg. Area Number of Rooms</th>\n      <th>Avg. Area Number of Bedrooms</th>\n      <th>Area Population</th>\n    </tr>\n  </thead>\n  <tbody>\n    <tr>\n      <th>1303</th>\n      <td>68091.179676</td>\n      <td>5.364208</td>\n      <td>7.502956</td>\n      <td>3.10</td>\n      <td>44557.379656</td>\n    </tr>\n    <tr>\n      <th>1051</th>\n      <td>75729.765546</td>\n      <td>5.580599</td>\n      <td>7.642973</td>\n      <td>4.21</td>\n      <td>29996.018448</td>\n    </tr>\n    <tr>\n      <th>4904</th>\n      <td>70885.420819</td>\n      <td>6.358747</td>\n      <td>7.250241</td>\n      <td>5.42</td>\n      <td>38627.301473</td>\n    </tr>\n    <tr>\n      <th>931</th>\n      <td>73386.407340</td>\n      <td>4.966360</td>\n      <td>7.915453</td>\n      <td>4.30</td>\n      <td>38413.490484</td>\n    </tr>\n    <tr>\n      <th>4976</th>\n      <td>75046.313791</td>\n      <td>5.351169</td>\n      <td>7.797825</td>\n      <td>5.23</td>\n      <td>34107.888619</td>\n    </tr>\n    <tr>\n      <th>...</th>\n      <td>...</td>\n      <td>...</td>\n      <td>...</td>\n      <td>...</td>\n      <td>...</td>\n    </tr>\n    <tr>\n      <th>4171</th>\n      <td>56610.642563</td>\n      <td>4.846832</td>\n      <td>7.558137</td>\n      <td>3.29</td>\n      <td>25494.740298</td>\n    </tr>\n    <tr>\n      <th>599</th>\n      <td>70596.850945</td>\n      <td>6.548274</td>\n      <td>6.539986</td>\n      <td>3.10</td>\n      <td>51614.830136</td>\n    </tr>\n    <tr>\n      <th>1361</th>\n      <td>55621.899104</td>\n      <td>3.735942</td>\n      <td>6.868291</td>\n      <td>2.30</td>\n      <td>63184.613147</td>\n    </tr>\n    <tr>\n      <th>1547</th>\n      <td>63044.460096</td>\n      <td>5.935261</td>\n      <td>5.913454</td>\n      <td>4.10</td>\n      <td>32725.279544</td>\n    </tr>\n    <tr>\n      <th>4959</th>\n      <td>75078.791516</td>\n      <td>7.644779</td>\n      <td>8.440726</td>\n      <td>4.33</td>\n      <td>56148.449322</td>\n    </tr>\n  </tbody>\n</table>\n<p>3000 rows × 5 columns</p>\n</div>"
          },
          "metadata": {}
        }
      ]
    },
    {
      "cell_type": "code",
      "source": [
        "from sklearn.linear_model import LinearRegression"
      ],
      "metadata": {
        "execution": {
          "iopub.status.busy": "2024-08-21T02:49:38.379982Z",
          "iopub.execute_input": "2024-08-21T02:49:38.380393Z",
          "iopub.status.idle": "2024-08-21T02:49:38.519937Z",
          "shell.execute_reply.started": "2024-08-21T02:49:38.38036Z",
          "shell.execute_reply": "2024-08-21T02:49:38.518725Z"
        },
        "trusted": true,
        "id": "SQOjQXzDvjsN"
      },
      "execution_count": null,
      "outputs": []
    },
    {
      "cell_type": "code",
      "source": [
        "lm = LinearRegression()"
      ],
      "metadata": {
        "execution": {
          "iopub.status.busy": "2024-08-21T02:50:10.577883Z",
          "iopub.execute_input": "2024-08-21T02:50:10.578338Z",
          "iopub.status.idle": "2024-08-21T02:50:10.583679Z",
          "shell.execute_reply.started": "2024-08-21T02:50:10.578303Z",
          "shell.execute_reply": "2024-08-21T02:50:10.582383Z"
        },
        "trusted": true,
        "id": "r0mD6oVkvjsO"
      },
      "execution_count": null,
      "outputs": []
    },
    {
      "cell_type": "code",
      "source": [
        "lm.fit(X_train, y_train)"
      ],
      "metadata": {
        "execution": {
          "iopub.status.busy": "2024-08-21T02:51:35.968504Z",
          "iopub.execute_input": "2024-08-21T02:51:35.969016Z",
          "iopub.status.idle": "2024-08-21T02:51:35.983121Z",
          "shell.execute_reply.started": "2024-08-21T02:51:35.968984Z",
          "shell.execute_reply": "2024-08-21T02:51:35.981843Z"
        },
        "trusted": true,
        "id": "V0EhW5ievjsO",
        "outputId": "3cc9f432-6545-410b-823c-c1e165f3b01a"
      },
      "execution_count": null,
      "outputs": [
        {
          "execution_count": 22,
          "output_type": "execute_result",
          "data": {
            "text/plain": "LinearRegression()",
            "text/html": "<style>#sk-container-id-2 {color: black;background-color: white;}#sk-container-id-2 pre{padding: 0;}#sk-container-id-2 div.sk-toggleable {background-color: white;}#sk-container-id-2 label.sk-toggleable__label {cursor: pointer;display: block;width: 100%;margin-bottom: 0;padding: 0.3em;box-sizing: border-box;text-align: center;}#sk-container-id-2 label.sk-toggleable__label-arrow:before {content: \"▸\";float: left;margin-right: 0.25em;color: #696969;}#sk-container-id-2 label.sk-toggleable__label-arrow:hover:before {color: black;}#sk-container-id-2 div.sk-estimator:hover label.sk-toggleable__label-arrow:before {color: black;}#sk-container-id-2 div.sk-toggleable__content {max-height: 0;max-width: 0;overflow: hidden;text-align: left;background-color: #f0f8ff;}#sk-container-id-2 div.sk-toggleable__content pre {margin: 0.2em;color: black;border-radius: 0.25em;background-color: #f0f8ff;}#sk-container-id-2 input.sk-toggleable__control:checked~div.sk-toggleable__content {max-height: 200px;max-width: 100%;overflow: auto;}#sk-container-id-2 input.sk-toggleable__control:checked~label.sk-toggleable__label-arrow:before {content: \"▾\";}#sk-container-id-2 div.sk-estimator input.sk-toggleable__control:checked~label.sk-toggleable__label {background-color: #d4ebff;}#sk-container-id-2 div.sk-label input.sk-toggleable__control:checked~label.sk-toggleable__label {background-color: #d4ebff;}#sk-container-id-2 input.sk-hidden--visually {border: 0;clip: rect(1px 1px 1px 1px);clip: rect(1px, 1px, 1px, 1px);height: 1px;margin: -1px;overflow: hidden;padding: 0;position: absolute;width: 1px;}#sk-container-id-2 div.sk-estimator {font-family: monospace;background-color: #f0f8ff;border: 1px dotted black;border-radius: 0.25em;box-sizing: border-box;margin-bottom: 0.5em;}#sk-container-id-2 div.sk-estimator:hover {background-color: #d4ebff;}#sk-container-id-2 div.sk-parallel-item::after {content: \"\";width: 100%;border-bottom: 1px solid gray;flex-grow: 1;}#sk-container-id-2 div.sk-label:hover label.sk-toggleable__label {background-color: #d4ebff;}#sk-container-id-2 div.sk-serial::before {content: \"\";position: absolute;border-left: 1px solid gray;box-sizing: border-box;top: 0;bottom: 0;left: 50%;z-index: 0;}#sk-container-id-2 div.sk-serial {display: flex;flex-direction: column;align-items: center;background-color: white;padding-right: 0.2em;padding-left: 0.2em;position: relative;}#sk-container-id-2 div.sk-item {position: relative;z-index: 1;}#sk-container-id-2 div.sk-parallel {display: flex;align-items: stretch;justify-content: center;background-color: white;position: relative;}#sk-container-id-2 div.sk-item::before, #sk-container-id-2 div.sk-parallel-item::before {content: \"\";position: absolute;border-left: 1px solid gray;box-sizing: border-box;top: 0;bottom: 0;left: 50%;z-index: -1;}#sk-container-id-2 div.sk-parallel-item {display: flex;flex-direction: column;z-index: 1;position: relative;background-color: white;}#sk-container-id-2 div.sk-parallel-item:first-child::after {align-self: flex-end;width: 50%;}#sk-container-id-2 div.sk-parallel-item:last-child::after {align-self: flex-start;width: 50%;}#sk-container-id-2 div.sk-parallel-item:only-child::after {width: 0;}#sk-container-id-2 div.sk-dashed-wrapped {border: 1px dashed gray;margin: 0 0.4em 0.5em 0.4em;box-sizing: border-box;padding-bottom: 0.4em;background-color: white;}#sk-container-id-2 div.sk-label label {font-family: monospace;font-weight: bold;display: inline-block;line-height: 1.2em;}#sk-container-id-2 div.sk-label-container {text-align: center;}#sk-container-id-2 div.sk-container {/* jupyter's `normalize.less` sets `[hidden] { display: none; }` but bootstrap.min.css set `[hidden] { display: none !important; }` so we also need the `!important` here to be able to override the default hidden behavior on the sphinx rendered scikit-learn.org. See: https://github.com/scikit-learn/scikit-learn/issues/21755 */display: inline-block !important;position: relative;}#sk-container-id-2 div.sk-text-repr-fallback {display: none;}</style><div id=\"sk-container-id-2\" class=\"sk-top-container\"><div class=\"sk-text-repr-fallback\"><pre>LinearRegression()</pre><b>In a Jupyter environment, please rerun this cell to show the HTML representation or trust the notebook. <br />On GitHub, the HTML representation is unable to render, please try loading this page with nbviewer.org.</b></div><div class=\"sk-container\" hidden><div class=\"sk-item\"><div class=\"sk-estimator sk-toggleable\"><input class=\"sk-toggleable__control sk-hidden--visually\" id=\"sk-estimator-id-2\" type=\"checkbox\" checked><label for=\"sk-estimator-id-2\" class=\"sk-toggleable__label sk-toggleable__label-arrow\">LinearRegression</label><div class=\"sk-toggleable__content\"><pre>LinearRegression()</pre></div></div></div></div></div>"
          },
          "metadata": {}
        }
      ]
    },
    {
      "cell_type": "code",
      "source": [
        "coeff_df = pd.DataFrame(lm.coef_,X.columns,columns=['coefficient'])"
      ],
      "metadata": {
        "execution": {
          "iopub.status.busy": "2024-08-21T02:53:20.226641Z",
          "iopub.execute_input": "2024-08-21T02:53:20.227502Z",
          "iopub.status.idle": "2024-08-21T02:53:20.233419Z",
          "shell.execute_reply.started": "2024-08-21T02:53:20.227461Z",
          "shell.execute_reply": "2024-08-21T02:53:20.232187Z"
        },
        "trusted": true,
        "id": "xFZx0R2TvjsP"
      },
      "execution_count": null,
      "outputs": []
    },
    {
      "cell_type": "code",
      "source": [
        "coeff_df"
      ],
      "metadata": {
        "execution": {
          "iopub.status.busy": "2024-08-21T02:53:36.239794Z",
          "iopub.execute_input": "2024-08-21T02:53:36.240219Z",
          "iopub.status.idle": "2024-08-21T02:53:36.252313Z",
          "shell.execute_reply.started": "2024-08-21T02:53:36.240185Z",
          "shell.execute_reply": "2024-08-21T02:53:36.250635Z"
        },
        "trusted": true,
        "id": "BeH116ryvjsP",
        "outputId": "f54c51d3-f941-428c-b1e5-4da0abbfdb6f"
      },
      "execution_count": null,
      "outputs": [
        {
          "execution_count": 24,
          "output_type": "execute_result",
          "data": {
            "text/plain": "                                coefficient\nAvg. Area Income                  21.528276\nAvg. Area House Age           164883.282027\nAvg. Area Number of Rooms     122368.678027\nAvg. Area Number of Bedrooms    2233.801864\nArea Population                   15.150420",
            "text/html": "<div>\n<style scoped>\n    .dataframe tbody tr th:only-of-type {\n        vertical-align: middle;\n    }\n\n    .dataframe tbody tr th {\n        vertical-align: top;\n    }\n\n    .dataframe thead th {\n        text-align: right;\n    }\n</style>\n<table border=\"1\" class=\"dataframe\">\n  <thead>\n    <tr style=\"text-align: right;\">\n      <th></th>\n      <th>coefficient</th>\n    </tr>\n  </thead>\n  <tbody>\n    <tr>\n      <th>Avg. Area Income</th>\n      <td>21.528276</td>\n    </tr>\n    <tr>\n      <th>Avg. Area House Age</th>\n      <td>164883.282027</td>\n    </tr>\n    <tr>\n      <th>Avg. Area Number of Rooms</th>\n      <td>122368.678027</td>\n    </tr>\n    <tr>\n      <th>Avg. Area Number of Bedrooms</th>\n      <td>2233.801864</td>\n    </tr>\n    <tr>\n      <th>Area Population</th>\n      <td>15.150420</td>\n    </tr>\n  </tbody>\n</table>\n</div>"
          },
          "metadata": {}
        }
      ]
    },
    {
      "cell_type": "code",
      "source": [
        "predictions = lm.predict(X_test)"
      ],
      "metadata": {
        "execution": {
          "iopub.status.busy": "2024-08-21T02:54:39.41824Z",
          "iopub.execute_input": "2024-08-21T02:54:39.419288Z",
          "iopub.status.idle": "2024-08-21T02:54:39.427167Z",
          "shell.execute_reply.started": "2024-08-21T02:54:39.419232Z",
          "shell.execute_reply": "2024-08-21T02:54:39.42576Z"
        },
        "trusted": true,
        "id": "54EDM7FnvjsP"
      },
      "execution_count": null,
      "outputs": []
    },
    {
      "cell_type": "code",
      "source": [
        "plt.scatter(y_test, predictions)"
      ],
      "metadata": {
        "execution": {
          "iopub.status.busy": "2024-08-21T02:55:10.088236Z",
          "iopub.execute_input": "2024-08-21T02:55:10.089184Z",
          "iopub.status.idle": "2024-08-21T02:55:10.904222Z",
          "shell.execute_reply.started": "2024-08-21T02:55:10.089145Z",
          "shell.execute_reply": "2024-08-21T02:55:10.903062Z"
        },
        "trusted": true,
        "id": "mXlM7PwpvjsQ",
        "outputId": "e901cab9-cb89-4dd4-d5b9-8c3fbf83e39a"
      },
      "execution_count": null,
      "outputs": [
        {
          "execution_count": 26,
          "output_type": "execute_result",
          "data": {
            "text/plain": "<matplotlib.collections.PathCollection at 0x7ce29900d9f0>"
          },
          "metadata": {}
        },
        {
          "output_type": "display_data",
          "data": {
            "text/plain": "<Figure size 640x480 with 1 Axes>",
            "image/png": "[encoded data removed]"
          },
          "metadata": {}
        }
      ]
    },
    {
      "cell_type": "markdown",
      "source": [
        "# **THE LINEARITY IN THE SCATTER PLOT PROVIDES THE INSIGHT THAT OUR MODEL HAS PREDICTED THE REGRESSION ANLAYSIS WELL**"
      ],
      "metadata": {
        "id": "HigiDjLEvjsQ"
      }
    },
    {
      "cell_type": "code",
      "source": [],
      "metadata": {
        "id": "wOmMQw-hvjsQ"
      },
      "execution_count": null,
      "outputs": []
    }
  ]
}